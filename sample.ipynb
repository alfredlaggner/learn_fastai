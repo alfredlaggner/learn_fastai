{
 "cells": [
  {
   "cell_type": "markdown",
   "id": "a76559a3-c299-44d7-89c9-2e720088142a",
   "metadata": {},
   "source": [
    "##### \n",
    "print('hello world')"
   ]
  },
  {
   "cell_type": "markdown",
   "id": "7a0dbe4d-0e5d-4fdb-b83a-7352e6d0a84c",
   "metadata": {},
   "source": [
    "print('Hello World!')\" width=\"1156\" height=\"161\" class=\"aligncenter size-full wp-image-51145\" />"
   ]
  },
  {
   "cell_type": "markdown",
   "id": "5e119c45-63c4-4aa7-ad44-623722539be1",
   "metadata": {},
   "source": [
    "tfghdfgh 1+1:\n"
   ]
  },
  {
   "cell_type": "code",
   "execution_count": 2,
   "id": "7117ccc5-48d1-4671-934a-9e195a18db25",
   "metadata": {},
   "outputs": [],
   "source": [
    "import time\n",
    "time.sleep(3)"
   ]
  },
  {
   "cell_type": "code",
   "execution_count": 5,
   "id": "dd17d72a-ecac-4002-8a14-96a41a7c18f5",
   "metadata": {},
   "outputs": [],
   "source": [
    "from numpy import *\n"
   ]
  },
  {
   "cell_type": "code",
   "execution_count": null,
   "id": "11ceac7f-564b-4e87-8861-1b2d1a7a1c80",
   "metadata": {},
   "outputs": [],
   "source": [
    "sin"
   ]
  },
  {
   "cell_type": "code",
   "execution_count": 3,
   "id": "9d8aee11-b18e-470d-9b51-9c1c12d58e29",
   "metadata": {},
   "outputs": [
    {
     "ename": "SyntaxError",
     "evalue": "invalid syntax (574629590.py, line 1)",
     "output_type": "error",
     "traceback": [
      "\u001b[0;36m  Cell \u001b[0;32mIn[3], line 1\u001b[0;36m\u001b[0m\n\u001b[0;31m    her is to calculate 1+1:\u001b[0m\n\u001b[0m              ^\u001b[0m\n\u001b[0;31mSyntaxError\u001b[0m\u001b[0;31m:\u001b[0m invalid syntax\n"
     ]
    }
   ],
   "source": [
    "her is to calculate 1+1:\n"
   ]
  },
  {
   "cell_type": "code",
   "execution_count": 2,
   "id": "f7e3f3c4-5db4-4952-9813-1655bd10b7a9",
   "metadata": {},
   "outputs": [
    {
     "data": {
      "text/plain": [
       "2"
      ]
     },
     "execution_count": 2,
     "metadata": {},
     "output_type": "execute_result"
    }
   ],
   "source": [
    "1+1"
   ]
  },
  {
   "cell_type": "code",
   "execution_count": 3,
   "id": "1ab6ecd3-052f-4baf-b6e7-fb3450ee104d",
   "metadata": {},
   "outputs": [],
   "source": [
    "import numpy as np\n",
    "def square(x):\n",
    "    return x * x"
   ]
  },
  {
   "cell_type": "code",
   "execution_count": 4,
   "id": "678f7e4c-300c-493d-bf59-d5d3f8dfa6a1",
   "metadata": {},
   "outputs": [
    {
     "data": {
      "text/plain": [
       "49"
      ]
     },
     "execution_count": 4,
     "metadata": {},
     "output_type": "execute_result"
    }
   ],
   "source": [
    "square(7)"
   ]
  },
  {
   "cell_type": "code",
   "execution_count": 5,
   "id": "4f80ea79-cc96-4edf-abd8-6aaad8208532",
   "metadata": {},
   "outputs": [
    {
     "ename": "SyntaxError",
     "evalue": "leading zeros in decimal integer literals are not permitted; use an 0o prefix for octal integers (2472376681.py, line 26)",
     "output_type": "error",
     "traceback": [
      "\u001b[0;36m  Cell \u001b[0;32mIn[5], line 26\u001b[0;36m\u001b[0m\n\u001b[0;31m    And finally, adding images is easy: ![Alt text](https://www.dataquest.io/wp-content/uploads/2023/02/DQ-Logo.svg)\u001b[0m\n\u001b[0m                                                                                                     ^\u001b[0m\n\u001b[0;31mSyntaxError\u001b[0m\u001b[0;31m:\u001b[0m leading zeros in decimal integer literals are not permitted; use an 0o prefix for octal integers\n"
     ]
    }
   ],
   "source": [
    "# This is a level 1 heading\n",
    "\n",
    "## This is a level 2 heading\n",
    "\n",
    "This is some plain text that forms a paragraph. Add emphasis via **bold** or __bold__, and *italic* or _italic_.\n",
    "\n",
    "Paragraphs must be separated by an empty line.\n",
    "\n",
    "* Sometimes we want to include lists.\n",
    "* Which can be bulleted using asterisks.\n",
    "\n",
    "1. Lists can also be numbered.\n",
    "2. If we want an ordered list.\n",
    "\n",
    "[It is possible to include hyperlinks](https://www.dataquest.io)\n",
    "\n",
    "Inline code uses single backticks: `foo()`, and code blocks use triple backticks:\n",
    "```\n",
    "bar()\n",
    "```\n",
    "Or can be indented by 4 spaces:\n",
    "```\n",
    "    foo()\n",
    "```\n",
    "\n",
    "And finally, adding images is easy: ![Alt text](https://www.dataquest.io/wp-content/uploads/2023/02/DQ-Logo.svg)"
   ]
  },
  {
   "attachments": {},
   "cell_type": "markdown",
   "id": "8cef3d5a-a443-4fa1-8efe-8eedbc258d23",
   "metadata": {},
   "source": [
    "\n",
    "\n",
    "def say_hello(recipient):\n",
    "    return 'Hello, {}!'.format(recipient)\n",
    "say_hello('Tim')"
   ]
  }
 ],
 "metadata": {
  "kernelspec": {
   "display_name": "Python 3 (ipykernel)",
   "language": "python",
   "name": "python3"
  },
  "language_info": {
   "codemirror_mode": {
    "name": "ipython",
    "version": 3
   },
   "file_extension": ".py",
   "mimetype": "text/x-python",
   "name": "python",
   "nbconvert_exporter": "python",
   "pygments_lexer": "ipython3",
   "version": "3.12.7"
  }
 },
 "nbformat": 4,
 "nbformat_minor": 5
}
